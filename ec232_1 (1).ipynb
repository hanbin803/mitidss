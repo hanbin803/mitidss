{
 "cells": [
  {
   "cell_type": "code",
   "execution_count": 1,
   "metadata": {},
   "outputs": [],
   "source": [
    "using Compat, Random, Distributions, Plots, LinearAlgebra, Statistics\n",
    "gr(fmt=:png)\n",
    "e = 2.7182818284\n",
    "Random.seed!(1);"
   ]
  },
  {
   "cell_type": "markdown",
   "metadata": {},
   "source": [
    "Suppose there is a worker who is engaged in a long-term relationship with a firm.\n",
    "The state of the relationship at time $t$ may be summarized by the worker's professional standing $s_t$.\n",
    "Her income at each period is $ws_t$\n",
    "Each period, she invests labor $l_t$ into her career.\n",
    "The state evolves as\n",
    "\n",
    "$$\n",
    "s_{t+1} = l_t + (1-\\delta)s_t\n",
    "$$\n",
    "\n",
    "Assume the worker just consumes all her income.\n",
    "Her problem can be written recursively:\n",
    "\n",
    "$$\n",
    "V(s) = \\underset{s',l\\in[0,1]}{\\max} \\Big[ u(ws) - h(l) + \\beta V(s') \\Big]\n",
    "$$\n",
    "\n",
    "Replacing the control,\n",
    "\n",
    "$$\n",
    "V(s) = \\underset{s'\\in[(1-\\delta)s,(1-\\delta)s+1]}{\\max} \\Big[ u(ws) - h(s'-(1-\\delta)s) + \\beta V(s') \\Big]\n",
    "$$\n",
    "\n",
    "The highest possible $s$ she can maintain is $1/\\delta$.\n",
    "We will take that into account when making a grid."
   ]
  },
  {
   "cell_type": "code",
   "execution_count": 2,
   "metadata": {},
   "outputs": [],
   "source": [
    "N = 1000\n",
    "v = zeros(N)\n",
    "s = zeros(N)\n",
    "V = zeros(N)\n",
    "S = Array{Int64}(undef, N)\n",
    "n = zeros(N)\n",
    "delta = 0.05\n",
    "beta = 0.98\n",
    "w = 1\n",
    "theta = 0.5\n",
    "a = 2\n",
    "psi = 10\n",
    "s_max = 1/delta/2\n",
    "id = Matrix{Float64}(I,N,N)\n",
    "Theta = Matrix{Float64}(I,N,N)\n",
    "G = Matrix{Float64}(I,N,N);"
   ]
  },
  {
   "cell_type": "markdown",
   "metadata": {},
   "source": [
    "It is convenient to define the period return function $G(s,s')$:\n",
    "\n",
    "$$\n",
    "G(s,s') = u(ws) - h(s' - (1-\\delta)s)\n",
    "$$\n",
    "\n",
    "The Bellman equation now becomes \n",
    "\n",
    "$$\n",
    "V(s) = \\underset{s'\\in[(1-\\delta)s,(1-\\delta)s+1]}{\\max} \\Big[ G(s,s') + \\beta V(s') \\Big]\n",
    "$$"
   ]
  },
  {
   "cell_type": "code",
   "execution_count": 3,
   "metadata": {},
   "outputs": [],
   "source": [
    "#functions\n",
    "\n",
    "function u(c)\n",
    "    return c^(1-theta)/(1-theta)\n",
    "end\n",
    "\n",
    "function h(l)\n",
    "    return psi*l^a\n",
    "end\n",
    "\n",
    "function ret(x,y)\n",
    "    return u(w*x) - h(y-(1-delta)*x)\n",
    "    end;"
   ]
  },
  {
   "cell_type": "markdown",
   "metadata": {},
   "source": [
    "The function $G(\\cdot)$ may be represented by an $N\\times N$ array, since we are discretizing the state space.\n",
    "It is better (faster) to use an array then to call a function every time you need to evaluate it. "
   ]
  },
  {
   "cell_type": "code",
   "execution_count": 4,
   "metadata": {},
   "outputs": [],
   "source": [
    "#fill the state vector and matrices\n",
    "\n",
    "for i in 1:1:N\n",
    "    s[i] = i/N*s_max\n",
    "    n[i] = i\n",
    "end\n",
    "for i in 1:1:N\n",
    "    for j in 1:1:N\n",
    "        G[i,j] = ret(s[i],s[j])\n",
    "    end\n",
    "end"
   ]
  },
  {
   "cell_type": "markdown",
   "metadata": {},
   "source": [
    "Now we will iterate the value function.\n",
    "The idea of the algorithm is the following:\n",
    "\n",
    "1. Guess a value function and put it into the right-hand side\n",
    "2. Treating your guess as a known function, solve the Bellman equation for all $s$\n",
    "3. Update the guess with your solution\n",
    "4. Iterate until convergence\n",
    "\n",
    "We discretized the state space, so value function is a vector of the length $N$.\n",
    "Suppose you have a guess $V_n(\\cdot)$.\n",
    "Determine $V_{n+1}(\\cdot)$ from the \"Bellman equation\":\n",
    "\n",
    "$$\n",
    "V_{n+1}(s) = \\underset{s'\\text{ from the grid}}{\\max}\\Big[ G(s,s') + \\beta V_n(s')\\Big]\n",
    "$$\n",
    "\n",
    "This is easily done with a loop.\n",
    "After you have your new guess, check the distance between it and the old one:\n",
    "\n",
    "$$\n",
    "d = ||V_n(\\cdot)-V_{n+1}(\\cdot)||_\\infty\n",
    "$$\n",
    "\n",
    "If your code is correct, it should shrink as you repeat the procedure.\n",
    "Iterate until it is sufficiently small (take into account execution time to decide what it means):"
   ]
  },
  {
   "cell_type": "code",
   "execution_count": 5,
   "metadata": {},
   "outputs": [
    {
     "name": "stdout",
     "output_type": "stream",
     "text": [
      "276706.4015270061 36102.53611961146 13118.41763369249 6016.009173854131 3119.5398531298056 1749.277347541921 1036.0032615495609 638.8544802165175 406.30984296800204 264.7743068921443 175.92650920600778 118.76796755190017 81.24001459325426 56.16737093014707 39.19598547024977 27.56161851099827 19.511326263386497 13.889469434302493 9.934974086881796 7.136227198788243 5.143968380630542 3.7210585699811287 2.6974611666053763 1.9604487864982911 1.428386633433324 1.041797155651975 0.7614765738808846 0.5579510056473523 0.40850163501397757 0.29928021997226983 0.21989861777597847 0.16146030783252593 0.11902259448427732 0.08725026358719642 \n",
      "\n",
      " distance = 0.08725026358719642\n",
      " iteration count = 34"
     ]
    }
   ],
   "source": [
    "#value function iteration\n",
    "\n",
    "V = zeros(N)\n",
    "for i in 1:1:N\n",
    "    V[i] = G[i,i]/(1-beta)\n",
    "end\n",
    "\n",
    "m = 0\n",
    "dist = 1000\n",
    "count = 0\n",
    "\n",
    "while (dist>0.1) & (count < 1000)\n",
    "    count = count + 1\n",
    "    for i in 1:1:N\n",
    "        m = G[i,1] + beta*V[1]\n",
    "        S[i] = 1\n",
    "        for j in 2:1:N\n",
    "            if m <= G[i,j] + beta*V[j]\n",
    "                m = G[i,j] + beta*V[j]\n",
    "                S[i] = j\n",
    "            end\n",
    "        end\n",
    "        v[i] = m\n",
    "    end\n",
    "    dist = mean((v-V).*(v-V))*N\n",
    "    V = deepcopy(v)\n",
    "    print(dist,\" \")\n",
    "end\n",
    "print(\"\\n\\n distance = \",dist,\"\\n iteration count = \",count)"
   ]
  },
  {
   "cell_type": "code",
   "execution_count": 6,
   "metadata": {},
   "outputs": [
    {
     "data": {
      "image/png": "[encoded data removed]"
     },
     "execution_count": 6,
     "metadata": {},
     "output_type": "execute_result"
    }
   ],
   "source": [
    "#plot the policy function\n",
    "\n",
    "plot(n/N*s_max,S/N*s_max,color=:red,label=\"Policy\",legend=:topleft)\n",
    "plot!(n/N*s_max,n/N*s_max,color=:black,label=\"x\")"
   ]
  },
  {
   "cell_type": "code",
   "execution_count": 7,
   "metadata": {},
   "outputs": [
    {
     "data": {
      "image/png": "[encoded data removed]"
     },
     "execution_count": 7,
     "metadata": {},
     "output_type": "execute_result"
    }
   ],
   "source": [
    "#plot the value function\n",
    "\n",
    "plot(n,V,color=:blue,label=\"Value\",legend=:topleft)"
   ]
  },
  {
   "cell_type": "markdown",
   "metadata": {},
   "source": [
    "Another (and often better) way to do it is to iterate on the policy function.\n",
    "The general principle is the same:\n",
    "\n",
    "1. Get a hold of a guess\n",
    "2. Compute something\n",
    "3. Update the guess\n",
    "4. Iterate until convergence\n",
    "\n",
    "We still have a guess $V_n(\\cdot)$, but now the importnant thing is the policy $g_n(\\cdot)$.\n",
    "It is computed as usually:\n",
    "\n",
    "$$\n",
    "g_n(s) = \\underset{s'\\text{ from the grid}}{\\text{arg }\\max} \\Big[G(s,s') + \\beta V_n(s')\\Big]\n",
    "$$\n",
    "\n",
    "The next value function guess is recovered from this policy function.\n",
    "Pretend that this policy function solves some Bellman equation and take the implied value function:\n",
    "\n",
    "$$\n",
    "V_{n+1}(s) = G(s,g_n(s)) + \\beta V_{n+1}(g_n(s))\n",
    "$$\n",
    "\n",
    "Since we discretize the state space, $g_n(\\cdot)$ is just a vector, as is $G(s,g_n(s))$.\n",
    "The object $V_{n+1}(g_n(s))$ is easily recovered from $V_{n+1}(\\cdot)$ by picking the required component of this vector for each $s$.\n",
    "This is achieved by taking a matrix $\\Theta$ and multiplying it by $V_{n+1}(\\cdot)$:\n",
    "\n",
    "$$\n",
    "V_{n+1}(\\cdot) =  G(\\cdot,g_n(\\cdot)) + \\beta\\Theta V_{n+1}(\\cdot)\n",
    "$$\n",
    "\n",
    "The matrix $\\Theta$ picks the required component, so every row has $1$ in the right place and $0$ everywhere else.\n",
    "The right place is determined by $g_n(\\cdot)$.\n",
    "Rearranging,\n",
    "\n",
    "$$\n",
    "(1-\\beta\\Theta)V_{n+1}(\\cdot) = G(\\cdot,g_n(\\cdot))\n",
    "$$\n",
    "\n",
    "Now you have to invert a matrix.\n",
    "This procedure becomes slower as $\\beta\\rightarrow 1$, so policy function iteration is less effective for weaker discounting.\n",
    "The formula for the new guess is\n",
    "\n",
    "$$\n",
    "V_{n+1}(\\cdot) = (1-\\beta\\Theta)^{-1} G(\\cdot,g_n(\\cdot))\n",
    "$$"
   ]
  },
  {
   "cell_type": "code",
   "execution_count": 8,
   "metadata": {},
   "outputs": [
    {
     "ename": "UndefVarError",
     "evalue": "UndefVarError: g not defined",
     "output_type": "error",
     "traceback": [
      "UndefVarError: g not defined",
      "",
      "Stacktrace:",
      " [1] top-level scope at .\\In[8]:25"
     ]
    }
   ],
   "source": [
    "#policy function iteration\n",
    "\n",
    "V = zeros(N)\n",
    "#for i in 1:1:N\n",
    "#    V[i] = G[i,i]/(1-beta)\n",
    "#end\n",
    "S_p = zeros(N)\n",
    "m = 0\n",
    "dist = 1000\n",
    "count = 0\n",
    "\n",
    "while (dist>1) & (count < 100)\n",
    "    count = count + 1\n",
    "    for i in 1:1:N\n",
    "        m = G[i,1] + beta*V[1]\n",
    "        S[i] = 1\n",
    "        for j in 2:1:N\n",
    "            if m < G[i,j] + beta*V[j]\n",
    "                m = G[i,j] + beta*V[j]\n",
    "                S[i] = j\n",
    "            end\n",
    "        end\n",
    "        Theta[i,:] = zeros(N)\n",
    "        Theta[i,S[i]] = 1\n",
    "        g[i] = G[i,S[i]]\n",
    "    end\n",
    "#    print(S)\n",
    "    V = deepcopy(inv(id-beta*Theta)*g)\n",
    "    dist = mean((S_p-S).*(S_p-S))*N\n",
    "    S_p = deepcopy(S)\n",
    "    print(dist,\" \")\n",
    "end\n",
    "print(\"\\n\\n distance = \",dist,\"\\n iteration count = \",count)"
   ]
  },
  {
   "cell_type": "code",
   "execution_count": 9,
   "metadata": {},
   "outputs": [
    {
     "data": {
      "image/png": "[encoded data removed]"
     },
     "execution_count": 9,
     "metadata": {},
     "output_type": "execute_result"
    }
   ],
   "source": [
    "#plot the policy function\n",
    "\n",
    "plot(n/N*s_max,S/N*s_max,color=:red,label=\"Policy\",legend=:topleft)\n",
    "plot!(n/N*s_max,n/N*s_max,color=:black,label=\"x\")"
   ]
  },
  {
   "cell_type": "code",
   "execution_count": 10,
   "metadata": {},
   "outputs": [
    {
     "data": {
      "image/png": "[encoded data removed]"
     },
     "execution_count": 10,
     "metadata": {},
     "output_type": "execute_result"
    }
   ],
   "source": [
    "#plot the value function\n",
    "\n",
    "plot(n,V,color=:blue,label=\"Value\",legend=:topleft)"
   ]
  }
 ],
 "metadata": {
  "kernelspec": {
   "display_name": "Julia 1.1.0",
   "language": "julia",
   "name": "julia-1.1"
  },
  "language_info": {
   "file_extension": ".jl",
   "mimetype": "application/julia",
   "name": "julia",
   "version": "1.1.0"
  }
 },
 "nbformat": 4,
 "nbformat_minor": 2
}
